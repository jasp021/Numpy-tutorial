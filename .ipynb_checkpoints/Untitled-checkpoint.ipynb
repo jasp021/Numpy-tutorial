{
 "cells": [
  {
   "cell_type": "code",
   "execution_count": 1,
   "id": "52db9ae6-2997-465d-8809-c5eec3efc0ab",
   "metadata": {},
   "outputs": [],
   "source": [
    "import numpy as np"
   ]
  },
  {
   "cell_type": "markdown",
   "id": "f37256f9-e1a2-43a2-9cbe-167fc0054180",
   "metadata": {},
   "source": [
    "## Creating a numpy array"
   ]
  },
  {
   "cell_type": "code",
   "execution_count": 2,
   "id": "f61c704a-4d10-4341-a9cf-77e6c1dca321",
   "metadata": {},
   "outputs": [],
   "source": [
    "myarray=np.array([3,6,32,7])"
   ]
  },
  {
   "cell_type": "code",
   "execution_count": 3,
   "id": "ddb874a8-47c8-4cfb-853c-bfa9ebf23c5f",
   "metadata": {},
   "outputs": [
    {
     "data": {
      "text/plain": [
       "array([ 3,  6, 32,  7])"
      ]
     },
     "execution_count": 3,
     "metadata": {},
     "output_type": "execute_result"
    }
   ],
   "source": [
    "myarray"
   ]
  },
  {
   "cell_type": "code",
   "execution_count": 4,
   "id": "8e489c21-f62e-483a-bd6e-eb4eb0284052",
   "metadata": {},
   "outputs": [],
   "source": [
    "myarray1=np.array([3,6,32,7],np.int8)"
   ]
  },
  {
   "cell_type": "code",
   "execution_count": 5,
   "id": "e8b09969-354c-4e0d-9f35-8dca45849522",
   "metadata": {},
   "outputs": [
    {
     "data": {
      "text/plain": [
       "array([ 3,  6, 32,  7], dtype=int8)"
      ]
     },
     "execution_count": 5,
     "metadata": {},
     "output_type": "execute_result"
    }
   ],
   "source": [
    "myarray1"
   ]
  },
  {
   "cell_type": "code",
   "execution_count": 6,
   "id": "a152aff9-b768-4c8a-b68e-5bce0e24a799",
   "metadata": {},
   "outputs": [
    {
     "data": {
      "text/plain": [
       "array([     3,      6, 377777,      7], dtype=int32)"
      ]
     },
     "execution_count": 6,
     "metadata": {},
     "output_type": "execute_result"
    }
   ],
   "source": [
    "myarray2=np.array([3,6,377777,7],np.int32) # can also use np.int8 and np.int64\n",
    "myarray2"
   ]
  },
  {
   "cell_type": "code",
   "execution_count": 7,
   "id": "830e4533-c1a9-4f99-9807-0a406f583748",
   "metadata": {},
   "outputs": [
    {
     "data": {
      "text/plain": [
       "np.int64(6)"
      ]
     },
     "execution_count": 7,
     "metadata": {},
     "output_type": "execute_result"
    }
   ],
   "source": [
    "myarray = np.array([[3, 6, 32, 7]])  # 2D array\n",
    "myarray[0,1]"
   ]
  },
  {
   "cell_type": "code",
   "execution_count": 8,
   "id": "1e8379df-19c6-432b-9721-6e413c3f91f7",
   "metadata": {},
   "outputs": [
    {
     "data": {
      "text/plain": [
       "(1, 4)"
      ]
     },
     "execution_count": 8,
     "metadata": {},
     "output_type": "execute_result"
    }
   ],
   "source": [
    "myarray.shape"
   ]
  },
  {
   "cell_type": "code",
   "execution_count": 9,
   "id": "5436f0cf-e709-4432-aa2e-86a66a144c04",
   "metadata": {},
   "outputs": [
    {
     "data": {
      "text/plain": [
       "np.int64(6)"
      ]
     },
     "execution_count": 9,
     "metadata": {},
     "output_type": "execute_result"
    }
   ],
   "source": [
    "myarray=np.array([3, 6, 32, 7]) # 1D array\n",
    "myarray[1]"
   ]
  },
  {
   "cell_type": "code",
   "execution_count": 10,
   "id": "a67883c4-6c3c-4435-bc10-603fe372677b",
   "metadata": {},
   "outputs": [
    {
     "data": {
      "text/plain": [
       "(4,)"
      ]
     },
     "execution_count": 10,
     "metadata": {},
     "output_type": "execute_result"
    }
   ],
   "source": [
    "myarray.shape"
   ]
  },
  {
   "cell_type": "code",
   "execution_count": 11,
   "id": "184881ac-0526-4df2-b223-76df26f83039",
   "metadata": {},
   "outputs": [
    {
     "data": {
      "text/plain": [
       "array([[ 3, 45, 32,  7]])"
      ]
     },
     "execution_count": 11,
     "metadata": {},
     "output_type": "execute_result"
    }
   ],
   "source": [
    "myarray = np.array([[3, 6, 32, 7]])\n",
    "myarray[0,1]=45\n",
    "myarray"
   ]
  },
  {
   "cell_type": "markdown",
   "id": "3253ffed-c5fe-4360-b80a-c4431e0f90bd",
   "metadata": {},
   "source": [
    "## Array Creation: Conversion from other Python structures"
   ]
  },
  {
   "cell_type": "code",
   "execution_count": 14,
   "id": "4c2d2682-307a-4276-85da-37896709bbb0",
   "metadata": {},
   "outputs": [],
   "source": [
    "listarray=np.array([[1,2,3],[5,8,5],[0,3,1]])"
   ]
  },
  {
   "cell_type": "code",
   "execution_count": 15,
   "id": "2b939f2a-cd5f-44ab-ad47-ded52b43210b",
   "metadata": {},
   "outputs": [
    {
     "data": {
      "text/plain": [
       "array([[1, 2, 3],\n",
       "       [5, 8, 5],\n",
       "       [0, 3, 1]])"
      ]
     },
     "execution_count": 15,
     "metadata": {},
     "output_type": "execute_result"
    }
   ],
   "source": [
    "listarray"
   ]
  },
  {
   "cell_type": "code",
   "execution_count": 16,
   "id": "f4215e1e-6e29-4d16-a21f-ec92906606f5",
   "metadata": {},
   "outputs": [
    {
     "data": {
      "text/plain": [
       "dtype('int64')"
      ]
     },
     "execution_count": 16,
     "metadata": {},
     "output_type": "execute_result"
    }
   ],
   "source": [
    "listarray.dtype"
   ]
  },
  {
   "cell_type": "code",
   "execution_count": 17,
   "id": "f57c141d-dd31-4875-9bf8-104994a595f9",
   "metadata": {},
   "outputs": [
    {
     "data": {
      "text/plain": [
       "9"
      ]
     },
     "execution_count": 17,
     "metadata": {},
     "output_type": "execute_result"
    }
   ],
   "source": [
    "listarray.size"
   ]
  },
  {
   "cell_type": "code",
   "execution_count": 18,
   "id": "f5dc3066-23ff-4003-95ac-2b8d68553675",
   "metadata": {},
   "outputs": [
    {
     "data": {
      "text/plain": [
       "(3, 3)"
      ]
     },
     "execution_count": 18,
     "metadata": {},
     "output_type": "execute_result"
    }
   ],
   "source": [
    "listarray.shape"
   ]
  },
  {
   "cell_type": "code",
   "execution_count": 19,
   "id": "85d093ba-d27c-4727-8d47-fba2cbd2209b",
   "metadata": {},
   "outputs": [
    {
     "data": {
      "text/plain": [
       "array({34, 23}, dtype=object)"
      ]
     },
     "execution_count": 19,
     "metadata": {},
     "output_type": "execute_result"
    }
   ],
   "source": [
    "np.array({34,23,23})"
   ]
  },
  {
   "cell_type": "markdown",
   "id": "1b28b980-76e2-4d03-99a6-4900d3f2c29f",
   "metadata": {},
   "source": [
    "## Intrinsic numpy creation objects"
   ]
  },
  {
   "cell_type": "code",
   "execution_count": 20,
   "id": "feec3a9d-efeb-438c-9b05-8bc51b08fbab",
   "metadata": {},
   "outputs": [],
   "source": [
    "zeros=np.zeros((2,5))"
   ]
  },
  {
   "cell_type": "code",
   "execution_count": 21,
   "id": "f1099833-36b2-42b3-bbd6-a856371b2e9a",
   "metadata": {},
   "outputs": [
    {
     "data": {
      "text/plain": [
       "array([[0., 0., 0., 0., 0.],\n",
       "       [0., 0., 0., 0., 0.]])"
      ]
     },
     "execution_count": 21,
     "metadata": {},
     "output_type": "execute_result"
    }
   ],
   "source": [
    "zeros"
   ]
  },
  {
   "cell_type": "code",
   "execution_count": 22,
   "id": "830e8754-d4eb-4dc7-8437-977d3a324020",
   "metadata": {},
   "outputs": [
    {
     "data": {
      "text/plain": [
       "dtype('float64')"
      ]
     },
     "execution_count": 22,
     "metadata": {},
     "output_type": "execute_result"
    }
   ],
   "source": [
    "zeros.dtype"
   ]
  },
  {
   "cell_type": "code",
   "execution_count": 23,
   "id": "c1683d52-b8b3-433c-b540-708576138b3c",
   "metadata": {},
   "outputs": [
    {
     "data": {
      "text/plain": [
       "(2, 5)"
      ]
     },
     "execution_count": 23,
     "metadata": {},
     "output_type": "execute_result"
    }
   ],
   "source": [
    "zeros.shape"
   ]
  },
  {
   "cell_type": "code",
   "execution_count": 24,
   "id": "5cea1a45-ffc7-4b15-a5d0-870387116e67",
   "metadata": {},
   "outputs": [
    {
     "data": {
      "text/plain": [
       "array([ 0,  1,  2,  3,  4,  5,  6,  7,  8,  9, 10, 11, 12, 13, 14])"
      ]
     },
     "execution_count": 24,
     "metadata": {},
     "output_type": "execute_result"
    }
   ],
   "source": [
    "rng=np.arange(15)\n",
    "rng"
   ]
  },
  {
   "cell_type": "code",
   "execution_count": 26,
   "id": "926986a6-8316-4600-bc4c-f541c4b2a675",
   "metadata": {},
   "outputs": [
    {
     "data": {
      "text/plain": [
       "array([1.        , 1.33333333, 1.66666667, 2.        , 2.33333333,\n",
       "       2.66666667, 3.        , 3.33333333, 3.66666667, 4.        ])"
      ]
     },
     "execution_count": 26,
     "metadata": {},
     "output_type": "execute_result"
    }
   ],
   "source": [
    "lspace=np.linspace(1,4,10) # to give 10 equally spaced elements between 1 to 4\n",
    "lspace"
   ]
  },
  {
   "cell_type": "code",
   "execution_count": 28,
   "id": "83a3b1ac-ec25-4a63-956a-be28dcff782b",
   "metadata": {},
   "outputs": [
    {
     "data": {
      "text/plain": [
       "array([[ 3.72277520e-316,  0.00000000e+000, -1.25743168e-205,\n",
       "         1.57397244e-296,  8.44852254e-322,  2.40214814e-301],\n",
       "       [-7.97405725e-095,  2.10966031e-321,  1.92288601e-305,\n",
       "        -3.19091075e-090, -2.09167219e-085,  1.29169439e-300],\n",
       "       [-7.82063709e-148,  3.62873863e-312, -8.08848102e-148,\n",
       "         3.73933867e-309,  9.07554355e-312, -6.67299515e-172],\n",
       "       [ 5.53701543e-317, -4.37321634e-167,  2.45532756e+050,\n",
       "         1.38484333e-316,  2.40533805e-301,  8.44852254e-322]])"
      ]
     },
     "execution_count": 28,
     "metadata": {},
     "output_type": "execute_result"
    }
   ],
   "source": [
    "emp=np.empty((4,6)) # it will give random elements in a 4*6 matrix format\n",
    "emp"
   ]
  },
  {
   "cell_type": "code",
   "execution_count": 29,
   "id": "e81f7857-20bb-4596-bf7f-ac97d150c9a5",
   "metadata": {},
   "outputs": [],
   "source": [
    "emp_like=np.empty_like(lspace)"
   ]
  },
  {
   "cell_type": "code",
   "execution_count": 30,
   "id": "8ea84994-f0d4-45fc-974d-2d0e7e46b885",
   "metadata": {},
   "outputs": [
    {
     "data": {
      "text/plain": [
       "array([1.        , 1.33333333, 1.66666667, 2.        , 2.33333333,\n",
       "       2.66666667, 3.        , 3.33333333, 3.66666667, 4.        ])"
      ]
     },
     "execution_count": 30,
     "metadata": {},
     "output_type": "execute_result"
    }
   ],
   "source": [
    "emp_like"
   ]
  },
  {
   "cell_type": "code",
   "execution_count": 32,
   "id": "2753bdf3-f527-40cd-9d4b-f9f6aadba980",
   "metadata": {},
   "outputs": [
    {
     "data": {
      "text/plain": [
       "array([[1., 0., 0., ..., 0., 0., 0.],\n",
       "       [0., 1., 0., ..., 0., 0., 0.],\n",
       "       [0., 0., 1., ..., 0., 0., 0.],\n",
       "       ...,\n",
       "       [0., 0., 0., ..., 1., 0., 0.],\n",
       "       [0., 0., 0., ..., 0., 1., 0.],\n",
       "       [0., 0., 0., ..., 0., 0., 1.]])"
      ]
     },
     "execution_count": 32,
     "metadata": {},
     "output_type": "execute_result"
    }
   ],
   "source": [
    "ide=np.identity(45) # a 45*45 identity matrix\n",
    "ide"
   ]
  },
  {
   "cell_type": "code",
   "execution_count": 33,
   "id": "69e6f15b-3b3f-4a3b-9062-f666c1181982",
   "metadata": {},
   "outputs": [
    {
     "data": {
      "text/plain": [
       "(45, 45)"
      ]
     },
     "execution_count": 33,
     "metadata": {},
     "output_type": "execute_result"
    }
   ],
   "source": [
    "ide.shape"
   ]
  },
  {
   "cell_type": "code",
   "execution_count": null,
   "id": "35ceb1a8-1ad3-46fc-8d2d-9971a99c5a73",
   "metadata": {},
   "outputs": [],
   "source": []
  }
 ],
 "metadata": {
  "kernelspec": {
   "display_name": "Python 3 (ipykernel)",
   "language": "python",
   "name": "python3"
  },
  "language_info": {
   "codemirror_mode": {
    "name": "ipython",
    "version": 3
   },
   "file_extension": ".py",
   "mimetype": "text/x-python",
   "name": "python",
   "nbconvert_exporter": "python",
   "pygments_lexer": "ipython3",
   "version": "3.12.3"
  }
 },
 "nbformat": 4,
 "nbformat_minor": 5
}
